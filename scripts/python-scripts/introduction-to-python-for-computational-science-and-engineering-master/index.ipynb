{
 "cells": [
  {
   "cell_type": "markdown",
   "metadata": {},
   "source": [
    "# Python for Computational Science and Engineering\n",
    "\n",
    "The content of [this book](https://github.com/fangohr/introduction-to-python-for-computational-science-and-engineering/blob/binder/Readme.md) is distributed into chapters, using one Jupyter Notebook for each chapter.\n",
    "\n",
    "If you have not used the Jupyter Notebook before, please read the section \"First steps with Jupyter Notebook\" below before you proceed.\n",
    "\n",
    "You can use the links below to jump directly to these notebooks to read the book, and to change all examples as you like."
   ]
  },
  {
   "cell_type": "markdown",
   "metadata": {},
   "source": [
    "- [01 Introduction](01-introduction.ipynb)\n",
    "- [02 A powerful calculator](02-powerful-calculator.ipynb)\n",
    "- [03 Data types and data structures ](03-data-types-structures.ipynb)\n",
    "- [04 Introspection ](04-introspection.ipynb)\n",
    "- [05 Input and output ](05-input-output.ipynb)\n",
    "- [06 Control flow ](06-control-flow.ipynb)\n",
    "- [07 Functions and modules ](07-functions-modules.ipynb)\n",
    "- [08 Functional tools ](08-functional-tools.ipynb)\n",
    "- [09 Common tasks ](09-common-tasks.ipynb)\n",
    "- [10 From Matlab to Python ](10-matlab-to-python.ipynb)\n",
    "- [11 Python shells, GUIs and editors](11-python-shells.ipynb)\n",
    "- [12 Symbolic calculation](12-symbolic-computation.ipynb)\n",
    "- [13 Numerical computation ](13-numeric-computation.ipynb)\n",
    "- [14 Numerical python (numpy): arrays](14-numpy.ipynb)\n",
    "- [15 Visualising data ](15-visualising-data.ipynb)\n",
    "- [16 Numerical methods using Python (scipy)](16-scipy.ipynb)\n",
    "- [17 Where to go from here?](17-next-steps.ipynb)\n",
    "\n",
    "You can also directly navigate the files in [this directory](.), and open those with the `ipynb` file extension."
   ]
  },
  {
   "cell_type": "markdown",
   "metadata": {},
   "source": [
    "## First steps with Jupyter Notebook\n",
    "\n",
    "### Navigating the notebook\n",
    "\n",
    "When you open a notebook, you will find that you can move a highlighted block (with a blue line at the left) with the cursor keys to move up and down. This block highlights a *cell*. (You can also use the mouse to select a cell.) This is called the [Command mode](https://jupyter-notebook.readthedocs.io/en/stable/examples/Notebook/Notebook%20Basics.html#Command-mode).\n",
    "\n",
    "### Executing code\n",
    "\n",
    "If you want to execute a cell (for example one that contains some Python code), you can press `Shift+ENTER`. If the cell creates some output, it will be displayed below the cell. (You may not notice if it just updates output that was displayed before, in particular if the new output is the same as the old output.)\n",
    "\n",
    "### Editing code\n",
    "\n",
    "If you want to *change* the code in the currently highlighted cell, you need to press `ENTER`. You have now entered the [Editing mode](https://jupyter-notebook.readthedocs.io/en/stable/examples/Notebook/Notebook%20Basics.html#Edit-mode), and the content of the cell can be edited. If you have completed your changes, and you want to execute them, use the `Shift+ENTER` short cut.\n",
    "\n",
    "Note that you can also edit blocks of text (or go into edit mode for a text cell unintentionally). Just press `Shift+ENTER` to render the text again, and go back into command mode."
   ]
  },
  {
   "cell_type": "markdown",
   "metadata": {},
   "source": [
    "## Warning: Changes on mybinder are temporary\n",
    "\n",
    "If you use this text book interactively on the mybinder service, then you have been given a temporary resource in the cloud to execute the code examples. The changes you have made to the notebook *will be lost* when your session ends (which is when you close the window, or the patience of the service has expired). Thus, the interactive exploration of the notebooks is good to help learn Python, computing and data science, but you should not attempt to write any code in these notebooks that you want to re-use the next day or later."
   ]
  },
  {
   "cell_type": "markdown",
   "metadata": {},
   "source": [
    "## Comments? Questions?\n",
    "\n",
    "For feedback, corrections, and questions please refer to the [home page](https://github.com/fangohr/introduction-to-python-for-computational-science-and-engineering/blob/binder/Readme.md) of the book.\n",
    "\n",
    "Enjoy!"
   ]
  },
  {
   "cell_type": "markdown",
   "metadata": {},
   "source": [
    "![Logo, created with MayaVi](static/images/mayavi/mayavi-samp.png \"3d magnetisation vector field\")\n"
   ]
  }
 ],
 "metadata": {
  "anaconda-cloud": {},
  "kernelspec": {
   "display_name": "Python 3",
   "language": "python",
   "name": "python3"
  },
  "language_info": {
   "codemirror_mode": {
    "name": "ipython",
    "version": 3
   },
   "file_extension": ".py",
   "mimetype": "text/x-python",
   "name": "python",
   "nbconvert_exporter": "python",
   "pygments_lexer": "ipython3",
   "version": "3.7.0"
  }
 },
 "nbformat": 4,
 "nbformat_minor": 2
}
