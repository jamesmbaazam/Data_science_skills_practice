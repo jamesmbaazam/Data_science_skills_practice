{
 "cells": [
  {
   "cell_type": "markdown",
   "metadata": {},
   "source": [
    "# Assigning variables and printing\n",
    "Below I am assigning a name to a variable and printing it. "
   ]
  },
  {
   "cell_type": "code",
   "execution_count": null,
   "metadata": {
    "scrolled": false
   },
   "outputs": [],
   "source": [
    "name = 'John'\n",
    "print(name)"
   ]
  },
  {
   "cell_type": "markdown",
   "metadata": {},
   "source": [
    "I am going to call the list of magic commands we can run in lines and cells. Below the output, we'll try some out. For example, to print the directory we're working in, we use the `%pwd` command. Let's go ahead and try it. Note that the cell magic commands are used for interpreting code written in certain cells as the language given. Note for example, that the %%latex command can be used to interpret a cell as LaTeX. Also, the %timeit command can be used to time Python code."
   ]
  },
  {
   "cell_type": "code",
   "execution_count": null,
   "metadata": {},
   "outputs": [],
   "source": [
    "%lsmagic"
   ]
  },
  {
   "cell_type": "code",
   "execution_count": null,
   "metadata": {},
   "outputs": [],
   "source": [
    "%pwd"
   ]
  },
  {
   "cell_type": "code",
   "execution_count": null,
   "metadata": {},
   "outputs": [],
   "source": [
    "!pip list"
   ]
  },
  {
   "cell_type": "code",
   "execution_count": 14,
   "metadata": {},
   "outputs": [],
   "source": [
    "%matplotlib inline"
   ]
  },
  {
   "cell_type": "code",
   "execution_count": 3,
   "metadata": {},
   "outputs": [
    {
     "data": {
      "image/png": "[encoded data removed]",
      "text/plain": [
       "<Figure size 432x288 with 1 Axes>"
      ]
     },
     "metadata": {
      "needs_background": "light"
     },
     "output_type": "display_data"
    }
   ],
   "source": [
    "\"\"\"\n",
    "Simple demo of a scatter plot\n",
    "\"\"\"\n",
    "import numpy as np\n",
    "import matplotlib.pyplot as plt\n",
    "\n",
    "N = 50\n",
    "x = np.random.rand(N)\n",
    "y = np.random.rand(N)\n",
    "colors = np.random.rand(N)\n",
    "area = np.pi * (15 * np.random.rand(N))**2\n",
    "plt.scatter(x,y, s = area, c = colors, alpha = 0.5)\n",
    "plt.show()"
   ]
  },
  {
   "cell_type": "code",
   "execution_count": 6,
   "metadata": {},
   "outputs": [
    {
     "data": {
      "text/html": [
       "<div>\n",
       "<style scoped>\n",
       "    .dataframe tbody tr th:only-of-type {\n",
       "        vertical-align: middle;\n",
       "    }\n",
       "\n",
       "    .dataframe tbody tr th {\n",
       "        vertical-align: top;\n",
       "    }\n",
       "\n",
       "    .dataframe thead th {\n",
       "        text-align: right;\n",
       "    }\n",
       "</style>\n",
       "<table border=\"1\" class=\"dataframe\">\n",
       "  <thead>\n",
       "    <tr style=\"text-align: right;\">\n",
       "      <th></th>\n",
       "      <th>0</th>\n",
       "      <th>1</th>\n",
       "      <th>2</th>\n",
       "      <th>3</th>\n",
       "      <th>4</th>\n",
       "    </tr>\n",
       "  </thead>\n",
       "  <tbody>\n",
       "    <tr>\n",
       "      <th>0</th>\n",
       "      <td>-1.795440</td>\n",
       "      <td>0.536891</td>\n",
       "      <td>0.832893</td>\n",
       "      <td>-1.529365</td>\n",
       "      <td>1.817556</td>\n",
       "    </tr>\n",
       "    <tr>\n",
       "      <th>1</th>\n",
       "      <td>-1.165612</td>\n",
       "      <td>1.044075</td>\n",
       "      <td>-0.426997</td>\n",
       "      <td>-1.183806</td>\n",
       "      <td>-1.608369</td>\n",
       "    </tr>\n",
       "    <tr>\n",
       "      <th>2</th>\n",
       "      <td>0.187460</td>\n",
       "      <td>-0.113400</td>\n",
       "      <td>-0.490003</td>\n",
       "      <td>-0.374061</td>\n",
       "      <td>0.183354</td>\n",
       "    </tr>\n",
       "    <tr>\n",
       "      <th>3</th>\n",
       "      <td>0.136509</td>\n",
       "      <td>-0.590926</td>\n",
       "      <td>1.064555</td>\n",
       "      <td>0.568985</td>\n",
       "      <td>0.725217</td>\n",
       "    </tr>\n",
       "    <tr>\n",
       "      <th>4</th>\n",
       "      <td>0.995987</td>\n",
       "      <td>0.057608</td>\n",
       "      <td>-0.300094</td>\n",
       "      <td>1.216262</td>\n",
       "      <td>-0.500044</td>\n",
       "    </tr>\n",
       "    <tr>\n",
       "      <th>5</th>\n",
       "      <td>0.304182</td>\n",
       "      <td>-1.028356</td>\n",
       "      <td>0.326931</td>\n",
       "      <td>-0.978780</td>\n",
       "      <td>2.035498</td>\n",
       "    </tr>\n",
       "    <tr>\n",
       "      <th>6</th>\n",
       "      <td>0.854354</td>\n",
       "      <td>0.385322</td>\n",
       "      <td>0.173007</td>\n",
       "      <td>2.664090</td>\n",
       "      <td>-0.198397</td>\n",
       "    </tr>\n",
       "    <tr>\n",
       "      <th>7</th>\n",
       "      <td>-1.167690</td>\n",
       "      <td>1.657603</td>\n",
       "      <td>1.213139</td>\n",
       "      <td>1.013006</td>\n",
       "      <td>-0.180193</td>\n",
       "    </tr>\n",
       "    <tr>\n",
       "      <th>8</th>\n",
       "      <td>0.085428</td>\n",
       "      <td>0.735392</td>\n",
       "      <td>-0.237158</td>\n",
       "      <td>-0.453567</td>\n",
       "      <td>1.252987</td>\n",
       "    </tr>\n",
       "    <tr>\n",
       "      <th>9</th>\n",
       "      <td>0.191396</td>\n",
       "      <td>0.717560</td>\n",
       "      <td>0.677986</td>\n",
       "      <td>-2.315403</td>\n",
       "      <td>-0.466473</td>\n",
       "    </tr>\n",
       "  </tbody>\n",
       "</table>\n",
       "</div>"
      ],
      "text/plain": [
       "          0         1         2         3         4\n",
       "0 -1.795440  0.536891  0.832893 -1.529365  1.817556\n",
       "1 -1.165612  1.044075 -0.426997 -1.183806 -1.608369\n",
       "2  0.187460 -0.113400 -0.490003 -0.374061  0.183354\n",
       "3  0.136509 -0.590926  1.064555  0.568985  0.725217\n",
       "4  0.995987  0.057608 -0.300094  1.216262 -0.500044\n",
       "5  0.304182 -1.028356  0.326931 -0.978780  2.035498\n",
       "6  0.854354  0.385322  0.173007  2.664090 -0.198397\n",
       "7 -1.167690  1.657603  1.213139  1.013006 -0.180193\n",
       "8  0.085428  0.735392 -0.237158 -0.453567  1.252987\n",
       "9  0.191396  0.717560  0.677986 -2.315403 -0.466473"
      ]
     },
     "execution_count": 6,
     "metadata": {},
     "output_type": "execute_result"
    }
   ],
   "source": [
    "import pandas as pd\n",
    "import numpy as np\n",
    "\n",
    "df = pd.DataFrame(np.random.randn(10, 5))\n",
    "df\n",
    "\n",
    "\n"
   ]
  }
 ],
 "metadata": {
  "kernelspec": {
   "display_name": "Python 3",
   "language": "python",
   "name": "python3"
  },
  "language_info": {
   "codemirror_mode": {
    "name": "ipython",
    "version": 3
   },
   "file_extension": ".py",
   "mimetype": "text/x-python",
   "name": "python",
   "nbconvert_exporter": "python",
   "pygments_lexer": "ipython3",
   "version": "3.7.3"
  }
 },
 "nbformat": 4,
 "nbformat_minor": 2
}
